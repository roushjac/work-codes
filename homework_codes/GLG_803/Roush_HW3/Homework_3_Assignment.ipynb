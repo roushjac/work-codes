{
 "cells": [
  {
   "cell_type": "markdown",
   "metadata": {
    "hideCode": true
   },
   "source": [
    "### GLG 803 - Spring 2018\n",
    "## Homework 3: Finishing Graphics and Advanced Visualization\n",
    "\n",
    "### Preparation Instructions\n",
    "Prepare a notebook document in your language of choice. All code should be shown within the notebook. Re-use of existing code is okay, but that code must be included.\n",
    "\n",
    "For this assignment we will use both the base plot that you used in Homework 2, as well as the advanced visualization package of your choice.\n",
    "\n",
    "We will be focusing on the taking the plots created last week into their \"finished\" form, aimed toward publication in a journal article. We will then re-create the same result using our advanced visualization package.\n",
    "\n",
    "### Steps to Complete\n",
    "1. Load your saved data from Homework 1\n",
    "2. Define a \"personal style\" relating to font sizes, legend position, color schemes, tick sizes, boxes, gridlines, backgrounds colors, etc. \n",
    "    * this should be sufficiently different from the default styling in your advanced plotting package to make this an interesting assignment\n",
    "3. For either the temperature or pressure <span style=\"color:blue\">boxplot</span> (your choosing):\n",
    "    1. Finish the graphic to your personal style in base plot\n",
    "    2. Do the same thing using your advanced plotting package\n",
    "4. Repeat Step 3 for each of your <span style=\"color:blue\">histogram</span>, <span style=\"color:blue\">timeseries</span>, and <span style=\"color:blue\">scatter plot</span> types from last week \n",
    "    * we only want two plots for each plot type, one finished from base plot and the other from your advanced library\n",
    "    * so select just one plot if necessary from the prior week\n",
    "5. Contrast the experience of finishing your graphics in the imperative (base) vs. declarative (advanced) styles\n",
    "\n",
    "### Submission Instructions\n",
    "Write out an html version of your notebook, and put them in a folder with any other requested files. Turn them into the Git repository (git@gitlab.msu.edu:glg-803/Spring-2018.git) in the Homework 3 folder. Make a new folder labeled with your last name, and commit your files into that folder into a branch (the branch can be whatever you want it to be called, perhaps your name). Push your changes into the remote repository, then log into GitLab and submit a merge request for your branch to be merged back into master. Anthony will then accept the merge request and finalize submission.\n",
    "\n",
    "### Due Date\n",
    "This assignment is due before the start of class on 4/2/2018."
   ]
  },
  {
   "cell_type": "code",
   "execution_count": null,
   "metadata": {},
   "outputs": [],
   "source": []
  }
 ],
 "metadata": {
  "kernelspec": {
   "display_name": "Python 3",
   "language": "python",
   "name": "python3"
  },
  "language_info": {
   "codemirror_mode": {
    "name": "ipython",
    "version": 3
   },
   "file_extension": ".py",
   "mimetype": "text/x-python",
   "name": "python",
   "nbconvert_exporter": "python",
   "pygments_lexer": "ipython3",
   "version": "3.6.4"
  },
  "sos": {
   "default_kernel": "SoS",
   "kernels": [],
   "panel": {
    "displayed": false,
    "height": 0,
    "style": "side"
   }
  },
  "toc": {
   "nav_menu": {},
   "number_sections": false,
   "sideBar": true,
   "skip_h1_title": false,
   "title_cell": "Table of Contents",
   "title_sidebar": "Contents",
   "toc_cell": false,
   "toc_position": {},
   "toc_section_display": true,
   "toc_window_display": false
  },
  "varInspector": {
   "cols": {
    "lenName": 16,
    "lenType": 16,
    "lenVar": 40
   },
   "kernels_config": {
    "python": {
     "delete_cmd_postfix": "",
     "delete_cmd_prefix": "del ",
     "library": "var_list.py",
     "varRefreshCmd": "print(var_dic_list())"
    },
    "r": {
     "delete_cmd_postfix": ") ",
     "delete_cmd_prefix": "rm(",
     "library": "var_list.r",
     "varRefreshCmd": "cat(var_dic_list()) "
    }
   },
   "types_to_exclude": [
    "module",
    "function",
    "builtin_function_or_method",
    "instance",
    "_Feature"
   ],
   "window_display": false
  }
 },
 "nbformat": 4,
 "nbformat_minor": 2
}
